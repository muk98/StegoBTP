{
 "cells": [
  {
   "cell_type": "code",
   "execution_count": 5,
   "metadata": {},
   "outputs": [],
   "source": [
    "import os\n",
    "import numpy as np\n",
    "import torch\n",
    "from torchvision import transforms, datasets\n",
    "import torchvision.datasets as datasets\n",
    "import torch.nn as nn\n",
    "import torch.nn.functional as F\n",
    "from torch.autograd import Variable\n",
    "device = torch.device(\"cuda:0\" if torch.cuda.is_available() else \"cpu\")"
   ]
  },
  {
   "cell_type": "code",
   "execution_count": 6,
   "metadata": {},
   "outputs": [],
   "source": [
    "np.random.seed(4)"
   ]
  },
  {
   "cell_type": "code",
   "execution_count": 7,
   "metadata": {},
   "outputs": [],
   "source": [
    "def loadData(folderDir): \n",
    "    dataTransform = transforms.Compose([\n",
    "        transforms.Grayscale(num_output_channels=1),\n",
    "        transforms.Resize((512,512)),\n",
    "        transforms.ToTensor()\n",
    "    ])\n",
    "    \n",
    "    dataSet = datasets.ImageFolder(folderDir,dataTransform)\n",
    "    dataLoader = torch.utils.data.DataLoader(dataSet, batch_size=4,shuffle=True, num_workers=2)\n",
    "\n",
    "#     datasetsizes = {x: len(dataSet[x]) for x in ['train', 'val']}\n",
    "    return dataSet,dataLoader"
   ]
  },
  {
   "cell_type": "code",
   "execution_count": 8,
   "metadata": {},
   "outputs": [],
   "source": [
    "folderDir = os.path.join(\"./bossbase_toy_dataset/train/\")\n",
    "trainData,trainDataLoader = loadData(folderDir)\n",
    "# print(trainDataLoader.classes)\n",
    "\n",
    "folderDir = os.path.join(\"./bossbase_toy_dataset/valid/\")\n",
    "validData,validDataLoader = loadData(folderDir)\n",
    "\n",
    "folderDir = os.path.join(\"./bossbase_toy_dataset/test/\")\n",
    "testData,testDataLoader = loadData(folderDir)\n"
   ]
  },
  {
   "cell_type": "code",
   "execution_count": 9,
   "metadata": {},
   "outputs": [],
   "source": [
    "class Model(nn.Module):\n",
    "    \n",
    "    def __init__(self):\n",
    "        super(Model, self).__init__()\n",
    "        \n",
    "        #Group 1\n",
    "        self.conv1 = nn.Conv2d(in_channels=1,out_channels=8,bias=False,kernel_size=5,stride=1,padding=2)\n",
    "        self.abs1 = torch.abs\n",
    "        self.bn1 = nn.BatchNorm2d(num_features=8,momentum=0.9)\n",
    "        self.tanh1 = nn.Tanh()\n",
    "        self.avgPool1 = nn.AvgPool2d(kernel_size=5,stride=2,padding=2)\n",
    "        \n",
    "        #Group 2\n",
    "        self.conv2 = nn.Conv2d(in_channels=8,out_channels=16,bias=False,kernel_size=5,stride=1,padding=2)\n",
    "        self.bn2 = nn.BatchNorm2d(num_features=16,momentum=0.9)\n",
    "        self.tanh2 = nn.Tanh()\n",
    "        self.avgPool2 = nn.AvgPool2d(kernel_size=5,stride=2,padding=2)\n",
    "        \n",
    "        #Group3\n",
    "        self.conv3 = nn.Conv2d(in_channels=16,out_channels=32,bias=False,kernel_size=5,stride=1,padding=2)\n",
    "        self.bn3 = nn.BatchNorm2d(num_features=32,momentum=0.9)\n",
    "        self.relu3 = nn.ReLU()\n",
    "        self.avgPool3 = nn.AvgPool2d(kernel_size=5,stride=2,padding=2)\n",
    "        \n",
    "        #Group4\n",
    "        self.conv4 = nn.Conv2d(in_channels=32,out_channels=64,bias=False,kernel_size=5,stride=1,padding=2)\n",
    "        self.bn4 = nn.BatchNorm2d(num_features=64,momentum=0.9)\n",
    "        self.relu4 = nn.ReLU()\n",
    "        self.avgPool4 = nn.AvgPool2d(kernel_size=5,stride=2,padding=2)\n",
    "        \n",
    "        #Group5\n",
    "        self.conv5 = nn.Conv2d(in_channels=64,out_channels=128,bias=False,kernel_size=5,stride=1,padding=2)\n",
    "        self.bn5 = nn.BatchNorm2d(num_features=128,momentum=0.9)\n",
    "        self.relu5 = nn.ReLU()\n",
    "        self.avgPool5 = nn.AvgPool2d(kernel_size=32)\n",
    "        \n",
    "        self.flatten = torch.flatten\n",
    "        self.fc = nn.Linear(in_features=128,out_features=2)\n",
    "        self.softmax = nn.Softmax()\n",
    "    \n",
    "    def forward(self,x):\n",
    "        #Group1\n",
    "        out1 = self.conv1(x)\n",
    "        out1 = self.abs1(out1)\n",
    "        out1 = self.bn1(out1)\n",
    "        out1 = self.tanh1(out1)\n",
    "        out1 = self.avgPool1(out1)\n",
    "        #Group2\n",
    "        out1 = self.conv2(out1)\n",
    "        out1 = self.bn2(out1)\n",
    "        out1 = self.tanh2(out1)\n",
    "        out1 = self.avgPool2(out1)\n",
    "        \n",
    "        #Group3\n",
    "        out1 = self.conv3(out1)\n",
    "        out1 = self.bn3(out1)\n",
    "        out1 = self.relu3(out1)\n",
    "        out1 = self.avgPool3(out1)\n",
    "            \n",
    "        #Group4\n",
    "        out1 = self.conv4(out1)\n",
    "        out1 = self.bn4(out1)\n",
    "        out1 = self.relu4(out1)\n",
    "        out1 = self.avgPool4(out1)\n",
    "            \n",
    "        \n",
    "        #Group5\n",
    "        out1 = self.conv5(out1)\n",
    "        out1 = self.bn5(out1)\n",
    "        out1 = self.relu5(out1)\n",
    "        out1 = self.avgPool5(out1)\n",
    "        \n",
    "        out1 = self.flatten(out1,start_dim=1)\n",
    "        out1 = self.fc(out1)\n",
    "        out1 = self.softmax(out1)\n",
    "        return out1\n",
    "        "
   ]
  },
  {
   "cell_type": "code",
   "execution_count": 10,
   "metadata": {},
   "outputs": [],
   "source": [
    "model = Model()"
   ]
  },
  {
   "cell_type": "code",
   "execution_count": 25,
   "metadata": {},
   "outputs": [],
   "source": [
    "learningRate = 0.001\n",
    "criterion = nn.BCELoss()\n",
    "optimizer = torch.optim.Adam(model.parameters(), lr=learningRate)"
   ]
  },
  {
   "cell_type": "code",
   "execution_count": 26,
   "metadata": {},
   "outputs": [],
   "source": [
    "iterations = 0\n",
    "numEpocs = 50"
   ]
  },
  {
   "cell_type": "code",
   "execution_count": 39,
   "metadata": {
    "scrolled": false
   },
   "outputs": [
    {
     "name": "stderr",
     "output_type": "stream",
     "text": [
      "/home/mukul/.local/lib/python3.6/site-packages/ipykernel_launcher.py:75: UserWarning: Implicit dimension choice for softmax has been deprecated. Change the call to include dim=X as an argument.\n"
     ]
    },
    {
     "name": "stdout",
     "output_type": "stream",
     "text": [
      "Epoch [1/50], Step [10/10], Loss: 0.7148, Accuracy: 50.00%\n",
      "Epoch [2/50], Step [10/10], Loss: 0.7605, Accuracy: 0.00%\n",
      "Epoch [3/50], Step [10/10], Loss: 0.7133, Accuracy: 25.00%\n"
     ]
    },
    {
     "ename": "KeyboardInterrupt",
     "evalue": "",
     "output_type": "error",
     "traceback": [
      "\u001b[0;31m---------------------------------------------------------------------------\u001b[0m",
      "\u001b[0;31mKeyboardInterrupt\u001b[0m                         Traceback (most recent call last)",
      "\u001b[0;32m<ipython-input-39-279236b63c06>\u001b[0m in \u001b[0;36m<module>\u001b[0;34m()\u001b[0m\n\u001b[1;32m     11\u001b[0m         \u001b[0moutputs\u001b[0m \u001b[0;34m=\u001b[0m \u001b[0mmodel\u001b[0m\u001b[0;34m(\u001b[0m\u001b[0mimages\u001b[0m\u001b[0;34m)\u001b[0m\u001b[0;34m\u001b[0m\u001b[0;34m\u001b[0m\u001b[0m\n\u001b[1;32m     12\u001b[0m         \u001b[0mloss\u001b[0m \u001b[0;34m=\u001b[0m \u001b[0mcriterion\u001b[0m\u001b[0;34m(\u001b[0m\u001b[0moutputs\u001b[0m\u001b[0;34m,\u001b[0m \u001b[0my_onehot\u001b[0m\u001b[0;34m)\u001b[0m\u001b[0;34m\u001b[0m\u001b[0;34m\u001b[0m\u001b[0m\n\u001b[0;32m---> 13\u001b[0;31m         \u001b[0mloss\u001b[0m\u001b[0;34m.\u001b[0m\u001b[0mbackward\u001b[0m\u001b[0;34m(\u001b[0m\u001b[0;34m)\u001b[0m\u001b[0;34m\u001b[0m\u001b[0;34m\u001b[0m\u001b[0m\n\u001b[0m\u001b[1;32m     14\u001b[0m         \u001b[0moptimizer\u001b[0m\u001b[0;34m.\u001b[0m\u001b[0mstep\u001b[0m\u001b[0;34m(\u001b[0m\u001b[0;34m)\u001b[0m\u001b[0;34m\u001b[0m\u001b[0;34m\u001b[0m\u001b[0m\n\u001b[1;32m     15\u001b[0m         \u001b[0miterations\u001b[0m \u001b[0;34m+=\u001b[0m \u001b[0;36m1\u001b[0m\u001b[0;34m\u001b[0m\u001b[0;34m\u001b[0m\u001b[0m\n",
      "\u001b[0;32m/usr/local/lib/python3.6/dist-packages/torch/tensor.py\u001b[0m in \u001b[0;36mbackward\u001b[0;34m(self, gradient, retain_graph, create_graph)\u001b[0m\n\u001b[1;32m    116\u001b[0m                 \u001b[0mproducts\u001b[0m\u001b[0;34m.\u001b[0m \u001b[0mDefaults\u001b[0m \u001b[0mto\u001b[0m\u001b[0;31m \u001b[0m\u001b[0;31m`\u001b[0m\u001b[0;31m`\u001b[0m\u001b[0;32mFalse\u001b[0m\u001b[0;31m`\u001b[0m\u001b[0;31m`\u001b[0m\u001b[0;34m.\u001b[0m\u001b[0;34m\u001b[0m\u001b[0;34m\u001b[0m\u001b[0m\n\u001b[1;32m    117\u001b[0m         \"\"\"\n\u001b[0;32m--> 118\u001b[0;31m         \u001b[0mtorch\u001b[0m\u001b[0;34m.\u001b[0m\u001b[0mautograd\u001b[0m\u001b[0;34m.\u001b[0m\u001b[0mbackward\u001b[0m\u001b[0;34m(\u001b[0m\u001b[0mself\u001b[0m\u001b[0;34m,\u001b[0m \u001b[0mgradient\u001b[0m\u001b[0;34m,\u001b[0m \u001b[0mretain_graph\u001b[0m\u001b[0;34m,\u001b[0m \u001b[0mcreate_graph\u001b[0m\u001b[0;34m)\u001b[0m\u001b[0;34m\u001b[0m\u001b[0;34m\u001b[0m\u001b[0m\n\u001b[0m\u001b[1;32m    119\u001b[0m \u001b[0;34m\u001b[0m\u001b[0m\n\u001b[1;32m    120\u001b[0m     \u001b[0;32mdef\u001b[0m \u001b[0mregister_hook\u001b[0m\u001b[0;34m(\u001b[0m\u001b[0mself\u001b[0m\u001b[0;34m,\u001b[0m \u001b[0mhook\u001b[0m\u001b[0;34m)\u001b[0m\u001b[0;34m:\u001b[0m\u001b[0;34m\u001b[0m\u001b[0;34m\u001b[0m\u001b[0m\n",
      "\u001b[0;32m/usr/local/lib/python3.6/dist-packages/torch/autograd/__init__.py\u001b[0m in \u001b[0;36mbackward\u001b[0;34m(tensors, grad_tensors, retain_graph, create_graph, grad_variables)\u001b[0m\n\u001b[1;32m     91\u001b[0m     Variable._execution_engine.run_backward(\n\u001b[1;32m     92\u001b[0m         \u001b[0mtensors\u001b[0m\u001b[0;34m,\u001b[0m \u001b[0mgrad_tensors\u001b[0m\u001b[0;34m,\u001b[0m \u001b[0mretain_graph\u001b[0m\u001b[0;34m,\u001b[0m \u001b[0mcreate_graph\u001b[0m\u001b[0;34m,\u001b[0m\u001b[0;34m\u001b[0m\u001b[0;34m\u001b[0m\u001b[0m\n\u001b[0;32m---> 93\u001b[0;31m         allow_unreachable=True)  # allow_unreachable flag\n\u001b[0m\u001b[1;32m     94\u001b[0m \u001b[0;34m\u001b[0m\u001b[0m\n\u001b[1;32m     95\u001b[0m \u001b[0;34m\u001b[0m\u001b[0m\n",
      "\u001b[0;31mKeyboardInterrupt\u001b[0m: "
     ]
    }
   ],
   "source": [
    "for epoch in range(numEpocs):\n",
    "    for i,(images,labels) in enumerate(trainDataLoader):\n",
    "        images = Variable(images/255.0)\n",
    "        labels = Variable(labels)\n",
    "#         print(labels)\n",
    "        y_onehot = labels.numpy()\n",
    "        y_onehot = (np.arange(2) == y_onehot[:,None]).astype(np.float32)\n",
    "        y_onehot = torch.from_numpy(y_onehot)\n",
    "#         print(y_onehot)\n",
    "        optimizer.zero_grad()\n",
    "        outputs = model(images)\n",
    "        loss = criterion(outputs, y_onehot)\n",
    "        loss.backward()\n",
    "        optimizer.step()\n",
    "        iterations += 1\n",
    "        total = labels.size(0)\n",
    "        _, predicted = torch.max(outputs.data, 1)\n",
    "        correct = (predicted == labels).sum().item()\n",
    "        if (i + 1) % 10 == 0:\n",
    "            print('Epoch [{}/{}], Step [{}/{}], Loss: {:.4f}, Accuracy: {:.2f}%'\n",
    "                  .format(epoch + 1, numEpocs, i + 1, len(trainDataLoader), loss.item(),\n",
    "                          (correct / total) * 100))\n",
    "        \n"
   ]
  },
  {
   "cell_type": "code",
   "execution_count": null,
   "metadata": {},
   "outputs": [],
   "source": []
  },
  {
   "cell_type": "code",
   "execution_count": null,
   "metadata": {},
   "outputs": [],
   "source": []
  }
 ],
 "metadata": {
  "kernelspec": {
   "display_name": "Python 3",
   "language": "python",
   "name": "python3"
  },
  "language_info": {
   "codemirror_mode": {
    "name": "ipython",
    "version": 3
   },
   "file_extension": ".py",
   "mimetype": "text/x-python",
   "name": "python",
   "nbconvert_exporter": "python",
   "pygments_lexer": "ipython3",
   "version": "3.6.8"
  }
 },
 "nbformat": 4,
 "nbformat_minor": 2
}
