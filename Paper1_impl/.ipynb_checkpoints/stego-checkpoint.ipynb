{
 "cells": [
  {
   "cell_type": "code",
   "execution_count": 269,
   "metadata": {},
   "outputs": [],
   "source": [
    "import os\n",
    "import numpy as np\n",
    "import torch\n",
    "from torchvision import transforms, datasets\n",
    "import torchvision.datasets as datasets\n",
    "import torch.nn as nn\n",
    "import torch.nn.functional as F\n",
    "from torch.autograd import Variable\n",
    "device = torch.device(\"cuda:0\" if torch.cuda.is_available() else \"cpu\")\n"
   ]
  },
  {
   "cell_type": "code",
   "execution_count": 271,
   "metadata": {},
   "outputs": [],
   "source": [
    "np.random.seed(21)"
   ]
  },
  {
   "cell_type": "code",
   "execution_count": 272,
   "metadata": {},
   "outputs": [],
   "source": [
    "def loadData(folderDir): \n",
    "    dataTransform = transforms.Compose([\n",
    "        transforms.Grayscale(num_output_channels=1),\n",
    "        transforms.Resize((512,512)),\n",
    "        transforms.ToTensor()\n",
    "    ])\n",
    "    \n",
    "    dataSet = datasets.ImageFolder(folderDir,dataTransform)\n",
    "    dataLoader = torch.utils.data.DataLoader(dataSet, batch_size=4,shuffle=True, num_workers=2)\n",
    "\n",
    "#     datasetsizes = {x: len(dataSet[x]) for x in ['train', 'val']}\n",
    "    return dataSet,dataLoader"
   ]
  },
  {
   "cell_type": "code",
   "execution_count": 273,
   "metadata": {},
   "outputs": [],
   "source": [
    "folderDir = os.path.join(\"./bossbase_toy_dataset/train/\")\n",
    "trainData,trainDataLoader = loadData(folderDir)\n",
    "# print(trainDataLoader.classes)\n",
    "\n",
    "folderDir = os.path.join(\"./bossbase_toy_dataset/valid/\")\n",
    "validData,validDataLoader = loadData(folderDir)\n",
    "\n",
    "folderDir = os.path.join(\"./bossbase_toy_dataset/test/\")\n",
    "testData,testDataLoader = loadData(folderDir)\n"
   ]
  },
  {
   "cell_type": "code",
   "execution_count": 274,
   "metadata": {},
   "outputs": [],
   "source": [
    "class Model(nn.Module):\n",
    "    \n",
    "    def __init__(self):\n",
    "        super(Model, self).__init__()\n",
    "        \n",
    "        #Group 1\n",
    "        self.conv1 = nn.Conv2d(in_channels=1,out_channels=8,bias=False,kernel_size=5,stride=1,padding=2)\n",
    "        self.abs1 = torch.abs\n",
    "        self.bn1 = nn.BatchNorm2d(num_features=8,momentum=0.9)\n",
    "        self.tanh1 = nn.Tanh()\n",
    "        self.avgPool1 = nn.AvgPool2d(kernel_size=5,stride=2,padding=2)\n",
    "        \n",
    "        #Group 2\n",
    "        self.conv2 = nn.Conv2d(in_channels=8,out_channels=16,bias=False,kernel_size=5,stride=1,padding=2)\n",
    "        self.bn2 = nn.BatchNorm2d(num_features=16,momentum=0.9)\n",
    "        self.tanh2 = nn.Tanh()\n",
    "        self.avgPool2 = nn.AvgPool2d(kernel_size=5,stride=2,padding=2)\n",
    "        \n",
    "        #Group3\n",
    "        self.conv3 = nn.Conv2d(in_channels=16,out_channels=32,bias=False,kernel_size=5,stride=1,padding=2)\n",
    "        self.bn3 = nn.BatchNorm2d(num_features=32,momentum=0.9)\n",
    "        self.relu3 = nn.ReLU()\n",
    "        self.avgPool3 = nn.AvgPool2d(kernel_size=5,stride=2,padding=2)\n",
    "        \n",
    "        #Group4\n",
    "        self.conv4 = nn.Conv2d(in_channels=32,out_channels=64,bias=False,kernel_size=5,stride=1,padding=2)\n",
    "        self.bn4 = nn.BatchNorm2d(num_features=64,momentum=0.9)\n",
    "        self.relu4 = nn.ReLU()\n",
    "        self.avgPool4 = nn.AvgPool2d(kernel_size=5,stride=2,padding=2)\n",
    "        \n",
    "        #Group5\n",
    "        self.conv5 = nn.Conv2d(in_channels=64,out_channels=128,bias=False,kernel_size=5,stride=1,padding=2)\n",
    "        self.bn5 = nn.BatchNorm2d(num_features=128,momentum=0.9)\n",
    "        self.relu5 = nn.ReLU()\n",
    "        self.avgPool5 = nn.AvgPool2d(kernel_size=32)\n",
    "        \n",
    "        self.flatten = torch.flatten\n",
    "        self.fc = nn.Linear(in_features=128,out_features=2)\n",
    "        self.softmax = nn.Softmax()\n",
    "    \n",
    "    def forward(self,x):\n",
    "        #Group1\n",
    "        out1 = self.conv1(x)\n",
    "        out1 = self.abs1(out1)\n",
    "        out1 = self.bn1(out1)\n",
    "        out1 = self.tanh1(out1)\n",
    "        out1 = self.avgPool1(out1)\n",
    "        #Group2\n",
    "        out1 = self.conv2(out1)\n",
    "        out1 = self.bn2(out1)\n",
    "        out1 = self.tanh2(out1)\n",
    "        out1 = self.avgPool2(out1)\n",
    "        \n",
    "        #Group3\n",
    "        out1 = self.conv3(out1)\n",
    "        out1 = self.bn3(out1)\n",
    "        out1 = self.relu3(out1)\n",
    "        out1 = self.avgPool3(out1)\n",
    "            \n",
    "        #Group4\n",
    "        out1 = self.conv4(out1)\n",
    "        out1 = self.bn4(out1)\n",
    "        out1 = self.relu4(out1)\n",
    "        out1 = self.avgPool4(out1)\n",
    "            \n",
    "        \n",
    "        #Group5\n",
    "        out1 = self.conv5(out1)\n",
    "        out1 = self.bn5(out1)\n",
    "        out1 = self.relu5(out1)\n",
    "        out1 = self.avgPool5(out1)\n",
    "        \n",
    "        out1 = self.flatten(out1,start_dim=1)\n",
    "        out1 = self.fc(out1)\n",
    "        out1 = self.softmax(out1)\n",
    "        return out1\n",
    "        "
   ]
  },
  {
   "cell_type": "code",
   "execution_count": 275,
   "metadata": {},
   "outputs": [],
   "source": [
    "model = Model()"
   ]
  },
  {
   "cell_type": "code",
   "execution_count": 276,
   "metadata": {},
   "outputs": [],
   "source": [
    "learningRate = 0.001\n",
    "criterion = nn.BCELoss()\n",
    "optimizer = torch.optim.Adam(model.parameters(), lr=learningRate)"
   ]
  },
  {
   "cell_type": "code",
   "execution_count": 277,
   "metadata": {},
   "outputs": [],
   "source": [
    "iterations = 0\n",
    "numEpocs = 50"
   ]
  },
  {
   "cell_type": "code",
   "execution_count": 278,
   "metadata": {
    "scrolled": false
   },
   "outputs": [
    {
     "name": "stderr",
     "output_type": "stream",
     "text": [
      "/home/mukul/.local/lib/python3.6/site-packages/ipykernel_launcher.py:75: UserWarning: Implicit dimension choice for softmax has been deprecated. Change the call to include dim=X as an argument.\n"
     ]
    },
    {
     "name": "stdout",
     "output_type": "stream",
     "text": [
      "Epoch [1/50], Step [10/10], Loss: 0.6856, Accuracy: 25.00%\n",
      "Epoch [2/50], Step [10/10], Loss: 0.6674, Accuracy: 50.00%\n",
      "Epoch [3/50], Step [10/10], Loss: 0.6357, Accuracy: 50.00%\n",
      "Epoch [4/50], Step [10/10], Loss: 0.7427, Accuracy: 50.00%\n",
      "Epoch [5/50], Step [10/10], Loss: 0.7425, Accuracy: 25.00%\n",
      "Epoch [6/50], Step [10/10], Loss: 0.7992, Accuracy: 25.00%\n",
      "Epoch [7/50], Step [10/10], Loss: 0.6417, Accuracy: 100.00%\n",
      "Epoch [8/50], Step [10/10], Loss: 0.7850, Accuracy: 25.00%\n",
      "Epoch [9/50], Step [10/10], Loss: 0.7361, Accuracy: 0.00%\n",
      "Epoch [10/50], Step [10/10], Loss: 0.7239, Accuracy: 25.00%\n",
      "Epoch [11/50], Step [10/10], Loss: 0.7676, Accuracy: 0.00%\n",
      "Epoch [12/50], Step [10/10], Loss: 0.7339, Accuracy: 0.00%\n",
      "Epoch [13/50], Step [10/10], Loss: 0.7216, Accuracy: 50.00%\n",
      "Epoch [14/50], Step [10/10], Loss: 0.6946, Accuracy: 50.00%\n",
      "Epoch [15/50], Step [10/10], Loss: 0.7046, Accuracy: 50.00%\n",
      "Epoch [16/50], Step [10/10], Loss: 0.6878, Accuracy: 50.00%\n",
      "Epoch [17/50], Step [10/10], Loss: 0.7511, Accuracy: 50.00%\n",
      "Epoch [18/50], Step [10/10], Loss: 0.7554, Accuracy: 25.00%\n",
      "Epoch [19/50], Step [10/10], Loss: 0.7042, Accuracy: 25.00%\n",
      "Epoch [20/50], Step [10/10], Loss: 0.7361, Accuracy: 25.00%\n",
      "Epoch [21/50], Step [10/10], Loss: 0.7164, Accuracy: 25.00%\n",
      "Epoch [22/50], Step [10/10], Loss: 0.6874, Accuracy: 50.00%\n",
      "Epoch [23/50], Step [10/10], Loss: 0.6704, Accuracy: 75.00%\n",
      "Epoch [24/50], Step [10/10], Loss: 0.6935, Accuracy: 25.00%\n",
      "Epoch [25/50], Step [10/10], Loss: 0.6835, Accuracy: 50.00%\n",
      "Epoch [26/50], Step [10/10], Loss: 0.6988, Accuracy: 50.00%\n",
      "Epoch [27/50], Step [10/10], Loss: 0.7432, Accuracy: 0.00%\n",
      "Epoch [28/50], Step [10/10], Loss: 0.7682, Accuracy: 0.00%\n",
      "Epoch [29/50], Step [10/10], Loss: 0.6875, Accuracy: 50.00%\n",
      "Epoch [30/50], Step [10/10], Loss: 0.7525, Accuracy: 0.00%\n",
      "Epoch [31/50], Step [10/10], Loss: 0.6874, Accuracy: 50.00%\n",
      "Epoch [32/50], Step [10/10], Loss: 0.7405, Accuracy: 25.00%\n",
      "Epoch [33/50], Step [10/10], Loss: 0.7083, Accuracy: 25.00%\n",
      "Epoch [34/50], Step [10/10], Loss: 0.7529, Accuracy: 0.00%\n",
      "Epoch [35/50], Step [10/10], Loss: 0.6657, Accuracy: 50.00%\n",
      "Epoch [36/50], Step [10/10], Loss: 0.6436, Accuracy: 75.00%\n",
      "Epoch [37/50], Step [10/10], Loss: 0.6823, Accuracy: 50.00%\n",
      "Epoch [38/50], Step [10/10], Loss: 0.6656, Accuracy: 75.00%\n",
      "Epoch [39/50], Step [10/10], Loss: 0.6924, Accuracy: 50.00%\n",
      "Epoch [40/50], Step [10/10], Loss: 0.7556, Accuracy: 25.00%\n",
      "Epoch [41/50], Step [10/10], Loss: 0.7189, Accuracy: 50.00%\n",
      "Epoch [42/50], Step [10/10], Loss: 0.6834, Accuracy: 75.00%\n",
      "Epoch [43/50], Step [10/10], Loss: 0.7008, Accuracy: 50.00%\n",
      "Epoch [44/50], Step [10/10], Loss: 0.7180, Accuracy: 50.00%\n",
      "Epoch [45/50], Step [10/10], Loss: 0.7349, Accuracy: 25.00%\n",
      "Epoch [46/50], Step [10/10], Loss: 0.7322, Accuracy: 25.00%\n",
      "Epoch [47/50], Step [10/10], Loss: 0.7054, Accuracy: 25.00%\n",
      "Epoch [48/50], Step [10/10], Loss: 0.6962, Accuracy: 25.00%\n",
      "Epoch [49/50], Step [10/10], Loss: 0.7169, Accuracy: 25.00%\n",
      "Epoch [50/50], Step [10/10], Loss: 0.6809, Accuracy: 75.00%\n"
     ]
    }
   ],
   "source": [
    "for epoch in range(numEpocs):\n",
    "    for i,(images,labels) in enumerate(trainDataLoader):\n",
    "        images = Variable(images/255.0)\n",
    "        labels = Variable(labels)\n",
    "        y_onehot = labels.numpy()\n",
    "        y_onehot = (np.arange(2) == y_onehot[:,None]).astype(np.float32)\n",
    "        y_onehot = torch.from_numpy(y_onehot)\n",
    "#         print(y_onehot)\n",
    "        optimizer.zero_grad()\n",
    "        outputs = model(images)\n",
    "#         print(outputs)\n",
    "        loss = criterion(outputs, y_onehot)\n",
    "        loss.backward()\n",
    "        optimizer.step()\n",
    "        iterations += 1\n",
    "        total = labels.size(0)\n",
    "        _, predicted = torch.max(outputs.data, 1)\n",
    "        correct = (predicted == labels).sum().item()\n",
    "        if (i + 1) % 10 == 0:\n",
    "            print('Epoch [{}/{}], Step [{}/{}], Loss: {:.4f}, Accuracy: {:.2f}%'\n",
    "                  .format(epoch + 1, numEpocs, i + 1, len(trainDataLoader), loss.item(),\n",
    "                          (correct / total) * 100))\n",
    "        \n"
   ]
  },
  {
   "cell_type": "code",
   "execution_count": null,
   "metadata": {},
   "outputs": [],
   "source": []
  },
  {
   "cell_type": "code",
   "execution_count": null,
   "metadata": {},
   "outputs": [],
   "source": []
  }
 ],
 "metadata": {
  "kernelspec": {
   "display_name": "Python 3",
   "language": "python",
   "name": "python3"
  },
  "language_info": {
   "codemirror_mode": {
    "name": "ipython",
    "version": 3
   },
   "file_extension": ".py",
   "mimetype": "text/x-python",
   "name": "python",
   "nbconvert_exporter": "python",
   "pygments_lexer": "ipython3",
   "version": "3.6.8"
  }
 },
 "nbformat": 4,
 "nbformat_minor": 2
}
